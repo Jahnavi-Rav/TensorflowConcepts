{
  "nbformat": 4,
  "nbformat_minor": 0,
  "metadata": {
    "colab": {
      "provenance": []
    },
    "kernelspec": {
      "name": "python3",
      "display_name": "Python 3"
    },
    "language_info": {
      "name": "python"
    }
  },
  "cells": [
    {
      "cell_type": "code",
      "execution_count": 2,
      "metadata": {
        "colab": {
          "base_uri": "https://localhost:8080/"
        },
        "id": "f_ljBS2G-EdL",
        "outputId": "cb2561df-b9a4-4256-f9dd-0d8df1698f05"
      },
      "outputs": [
        {
          "output_type": "stream",
          "name": "stdout",
          "text": [
            "tf.Tensor(23, shape=(), dtype=int32)\n"
          ]
        }
      ],
      "source": [
        "import tensorflow as tf\n",
        "a = tf.constant([5, 3], name = \"input_a\")\n",
        "b = tf.reduce_prod(a, name = \"prod_b\")\n",
        "c = tf.reduce_sum(a, name = \"sum_c\")\n",
        "d = tf.add(b, c, name = \"add_d\")\n",
        "print(d)"
      ]
    },
    {
      "cell_type": "code",
      "source": [],
      "metadata": {
        "id": "TUXdqaBz-s-l"
      },
      "execution_count": null,
      "outputs": []
    }
  ]
}